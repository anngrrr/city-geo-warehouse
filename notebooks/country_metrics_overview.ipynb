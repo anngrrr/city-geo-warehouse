{
 "cells": [
  {
   "cell_type": "markdown",
   "id": "d59fa5d6",
   "metadata": {},
   "source": [
    "# Country Metrics Overview\n",
    "\n",
    "This notebook provides a quick tour of the processed country-level metrics without requiring Docker or database access."
   ]
  },
  {
   "cell_type": "markdown",
   "id": "092078d2",
   "metadata": {},
   "source": [
    "## 1. Load dependencies"
   ]
  },
  {
   "cell_type": "code",
   "execution_count": null,
   "id": "6df26923",
   "metadata": {},
   "outputs": [],
   "source": [
    "import pandas as pd\n",
    "from pathlib import Path\n",
    "import plotly.express as px\n",
    "\n",
    "DATA_PATH = Path('..') / 'data' / 'processed' / 'country_metrics.csv'\n",
    "country_df = pd.read_csv(DATA_PATH)\n",
    "country_df.head()"
   ]
  },
  {
   "cell_type": "markdown",
   "id": "df1ccf4e",
   "metadata": {},
   "source": [
    "## 2. Data coverage\n",
    "\n",
    "How many countries and years do we have?"
   ]
  },
  {
   "cell_type": "code",
   "execution_count": null,
   "id": "3cf7a94f",
   "metadata": {},
   "outputs": [],
   "source": [
    "summary = country_df.groupby('year')['country_code'].nunique().reset_index(name='countries')\n",
    "summary"
   ]
  },
  {
   "cell_type": "code",
   "execution_count": null,
   "id": "3d749321",
   "metadata": {},
   "outputs": [],
   "source": [
    "import plotly.express as px\n",
    "px.line(summary, x='year', y='countries', title='Countries covered per year')"
   ]
  },
  {
   "cell_type": "markdown",
   "id": "5b2cffee",
   "metadata": {},
   "source": [
    "## 3. Example metrics\n",
    "\n",
    "Visualize GDP growth vs. digital economy score for the most recent year."
   ]
  },
  {
   "cell_type": "code",
   "execution_count": null,
   "id": "18c78af2",
   "metadata": {},
   "outputs": [],
   "source": [
    "latest_year = country_df['year'].max()\n",
    "latest = country_df[country_df['year'] == latest_year]\n",
    "import plotly.express as px\n",
    "fig = px.scatter(latest, x='real_gdp_growth_rate', y='digital_economy_score', hover_name='country_name', size='consumer_price_index', title=f'Real GDP growth vs. Digital Economy ({latest_year})')\n",
    "fig"
   ]
  },
  {
   "cell_type": "markdown",
   "id": "1551e56f",
   "metadata": {},
   "source": [
    "## 4. Save a CSV snapshot\n",
    "\n",
    "Export a filtered table for sharing (e.g., last available year)."
   ]
  },
  {
   "cell_type": "code",
   "execution_count": null,
   "id": "257f42cf",
   "metadata": {},
   "outputs": [],
   "source": [
    "latest.to_csv('country_metrics_latest.csv', index=False)\n",
    "latest.head()"
   ]
  }
 ],
 "metadata": {},
 "nbformat": 4,
 "nbformat_minor": 5
}